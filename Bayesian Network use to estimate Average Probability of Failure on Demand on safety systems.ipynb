{
 "cells": [
  {
   "cell_type": "markdown",
   "metadata": {},
   "source": [
    "# Bayesian Network use to estimate Average Probability of Failure on Demand on safety systems\n",
    "\n",
    "<img style=\"float: right; margin: 0px 0px 10px 10px;\" src=\"https://senwork.com/wp-content/uploads/2020/05/Picture9.png\" width=\"620px\" height=\"400px\" />\n",
    "<p>&nbsp;</p>\n",
    "\n",
    "<div align=\"justify\"> Manufacturing facilities and their components are particularly subjected to accidental events that can affect workers,population, as well as assets, environment, and last but not least, production quality and yield. In order to decrese the possibility of this events to occur, engineers and safety professionals design safety systems that avoid or mitigate this incidents. But, how to be sure that this protection systems not going to fail when we need it? That's why knowing the <b>probability of failure on demand (PFD) for protection systems</b> is important for industry, because it is telling us that if something goes wrong, we have a protection system ready to act. </div>\n",
    "\n",
    "<p>&nbsp;</p>\n",
    "<div align=\"justify\">For this study, we're going to use bayesian networks (a probabilistic graphical models) in order to estimate if this safety systems have the mininum availability required to operate safe, and how probability of an undesirable event can decrease if avaliability of protection system is adequate enough.</div>\n",
    "______________________"
   ]
  },
  {
   "cell_type": "markdown",
   "metadata": {},
   "source": [
    "**By:**\n",
    "- Garay Gutierrez, Adrian Josue.\n",
    "- Rubio Origel, Miguel Angel."
   ]
  },
  {
   "cell_type": "markdown",
   "metadata": {},
   "source": [
    "## 1. Problem description\n",
    "\n",
    "Nowadays, industrial processes are becoming more complex due to dynamic and technology, among other factors. Simultaneously, organizations have focused on policies to achieve and demonstrate people’s safety and health, environmental management system and controlling risks due manufacturing processes are subjected to accidental events all the time. In this context, any industrial system, as modern and innovative as can be, could be considered to pose a serious risk to people’s health,the environment and to the costs of industrial equipment, in the event that a failure fails to be diagnosed and treated correctly. In order to decrease the possibility of this events to occur, experts indicate that the solution to this problem involves the application of a layer of risk reduction called **safety systems** (also called functional safety systems) , that are specifically designed to perform functions that maintain a process in a safe state when any risk is detected.\n",
    "\n",
    "This systems are a set of **safety functions**. A safety function is the action of a **collection of equipment or elements (such as valves, sensors, transmitters, utilities, safety equipment, etc)** to implement automatic mitigation of a particular hazard. Some examples of common Safety Functions: \n",
    "\n",
    "- Car brake stop\n",
    "- ESD valve – Shutdown process\n",
    "- Sprinkler system \n",
    "- High pressure in a vessel opens a vent valve\n",
    "- Guard sensing/speed sensing functions\n",
    "- Coolent valve - Open \n",
    "- Overflow sensing functions\n",
    "\n",
    "An example of a safety function is shown below.\n",
    "\n",
    "<img src=\"https://realpars.com/wp-content/uploads/2018/08/Safety-Instrumented-System..gif\" width=\"620px\" height=\"400px\" />\n",
    "\n",
    "Safety functions are often designed to be working in the background, monitoring a process, but not doing anything until a safety limit is exceeded when they must take some action to keep the process safe. Notice that **if this systems are not available, probability to present one of this events trend to increase**. We define availability as *the proportion of time for which the equipment is able to perform its function* so the rest of time is **unavailable (1 - availability)**. Said this, a new term of effectiveness of a safety system is introduced **Probability of Failure on Demand (PFD)**. PFD is the unavailability of a safety function or the likelihood that a component or a system will fail to perform its designated function at the time it is required.\n",
    "\n",
    "<img src=\"https://realpars.com/wp-content/uploads/2018/08/Probability-of-Failure-on-Demand.png\" width=\"620px\" height=\"400px\" />\n",
    "\n",
    "\n",
    "**PFD of a system is the estimation given safety functions PFDs; PFD of a safety function is the estimation given elements PFDs**.\n",
    "\n",
    "<a id='el_PFD'></a>Elements PFDs are usually **estimated by manufacturers** based on a failure analysis of collected data through time. Also, particular studies made by companies give information of different elements PFDs (such as human response, utilities availability, etc) or how periodic maintanence or inspection increase or deacrese PFD given by manufacturers.\n",
    "\n",
    "<img src=\"https://realpars.com/wp-content/uploads/2018/08/Example-for-Probability-of-Failure-on-Demand-PFD..png\" width=\"620px\" height=\"400px\" />\n",
    " \n",
    "To sum up, estimate PFD of a system **is necessary to know its availability and determine if process associated risk is tolerable**.\n",
    "\n",
    "<img  src=\"https://realpars.com/wp-content/uploads/2018/08/Risk-Matrix-for-Safety-Instrumented-System.png\" width=\"620px\" height=\"400px\" />\n",
    "<img  src=\"https://realpars.com/wp-content/uploads/2018/08/reduce-the-risk-Industrial-Manufacturing.png\" width=\"620px\" height=\"400px\" />\n",
    "\n"
   ]
  },
  {
   "cell_type": "markdown",
   "metadata": {},
   "source": [
    "## 2. Probabilistic graphical model proposal\n",
    "\n",
    "Bayesian network probabilistic graphical models(BN) have been widely used to solve various problems (for example diagnosis, failure prediction and risk analysis, classification). Modelling by using bayesian network is performed in two steps: the qualitative step (construction of the network or the graph) and the quantitative step (estimating the probability distribution tables). Bayesian network are increasingly used in various fields and applications such as operating safety, risk analysis, maintenance, as well as finance, and the field or image processing.\n",
    "\n",
    "The phase of the quantitative analysis in the construction of bayesian networks is considered a very difficult task in estimating the a prior marginal and conditional probabilities of each node of the network. A prior probability is based on the knowledge provided by expert of the process or obtained by learning methode or algorithm from an experimental or experience feedback database.\n",
    "\n",
    "To generate our model, Fault trees models that are in literature (knowledge provided by expert or by manufacturers) has been \"traduced\" to BN.\n",
    "\n",
    "The methodology used to build de BN model to estimate PFD of a safety system is the following:\n",
    "\n",
    "- Qualitative exploitation of events for the fault tree representation.\n",
    "- Define the safety function to be analyzed; explicitly shows all the different relationships that are necessary to result in the top event.\n",
    "- Exploits the existing data (Given by experts and manufacturers) of the system or function under study, to quantify the PFD.\n",
    "- Deriving the graphical structure of the BN via transforming the Fault Tree according to the proposed methodology.\n",
    "\n",
    "Building bayesian network from the fault tree is to transform the graphical representation of the fault tree into bayesian network. Events and logic Gates (AND, OR) are the basic elements for the fault tree. However, the  bayesian network use as basic elements nodes that representing events and arcs that model the dependences between events and relations causes - effect.\n",
    "\n",
    "The adopted method in this works consists to transform the different kinds of events of the fault tree to nodes in the associated bayesian networks, and the logic gates (AND, OR) not participating in the form of the graphical structure of the networks.\n",
    "\n",
    "Next, the construction of a bayesian network from a fault tree lies in the estimation (quantification) of probabilities. It consists in this step to assign probabilities of occurrence of basic events (primaries) of fault tree to node roots as probabilities a priori, but in case of induced events (intermediate) and final events associated probabilities will be estimated on the basis of calculation of conditional probabilities as shown on following algorithm:\n",
    "\n",
    "<img src=\"img_1.png\" width=\"620px\" height=\"100px\" />\n",
    "\n",
    "The following examples demonstrates how these algorithm works:"
   ]
  },
  {
   "cell_type": "markdown",
   "metadata": {},
   "source": [
    "### OR gate"
   ]
  },
  {
   "cell_type": "markdown",
   "metadata": {},
   "source": [
    "We want to calculate PFD from a glove valve, their components are the valve (actuator and body) and solenoid valve, as follows:\n",
    "\n",
    "\n",
    "<img src=\"Drawing1.jpg\" width=\"500px\" height=\"300px\"/>\n"
   ]
  },
  {
   "cell_type": "markdown",
   "metadata": {},
   "source": [
    "Valve fault tree is:\n",
    "\n",
    "<img src=\"Drawing3.jpg\" width=\"600px\" height=\"300px\"/>"
   ]
  },
  {
   "cell_type": "markdown",
   "metadata": {},
   "source": [
    "Globe and Solenoid valves manufacturers estimate their failure frequency as:\n",
    "\n",
    "- Solenoid valve = 0.02/year\n",
    "- Globe valve = 0.02/year\n",
    "\n",
    "which can be taken as **element PFD**(as we explained *[here](#el_PFD)*). \n",
    "\n",
    "An OR gate is used because **if any of the elements fails to perform their function, valve also will fail**\n",
    "\n",
    "We can estimate valve PFD with follow BN:\n",
    "\n",
    "<img src=\"Drawing4.jpg\" width=\"400px\" height=\"300px\"/>\n",
    "\n",
    "Where:\n",
    "\n",
    "- $S$olenoid valve will fail when needed (True = $s^1$, False = $s^0$),\n",
    "- $G$lobe valve will fail when needed (True = $g^1$, False = $g^0$),\n",
    "- $V$alve will fail when needed (True = $v^1$, False = $v^0$)."
   ]
  },
  {
   "cell_type": "markdown",
   "metadata": {},
   "source": [
    "Now, lets construct Bayesian network using pgmpy:"
   ]
  },
  {
   "cell_type": "code",
   "execution_count": 1,
   "metadata": {},
   "outputs": [],
   "source": [
    "# Import pgmpy.models.BayesianModel\n",
    "from pgmpy.models import BayesianModel\n",
    "# Import pgmpy.factors.discrete.TabularCPD and DiscreteFactor\n",
    "from pgmpy.factors.discrete import TabularCPD, DiscreteFactor\n",
    "#Inferece just for evaluate\n",
    "from pgmpy.inference import VariableElimination"
   ]
  },
  {
   "cell_type": "code",
   "execution_count": 2,
   "metadata": {},
   "outputs": [
    {
     "name": "stderr",
     "output_type": "stream",
     "text": [
      "C:\\Users\\agaray\\Anaconda3\\lib\\site-packages\\pgmpy\\models\\BayesianModel.py:8: FutureWarning: BayesianModel has been renamed to BayesianNetwork. Please use BayesianNewtork class, BayesianModel will be removed in future.\n",
      "  warnings.warn(\n"
     ]
    }
   ],
   "source": [
    "#Define network through edges \n",
    "valvePFD = BayesianModel([('S', 'V'), \n",
    "                         ('G', 'V')])"
   ]
  },
  {
   "cell_type": "code",
   "execution_count": 3,
   "metadata": {},
   "outputs": [],
   "source": [
    "#Define Conditional Probability Distribution of S\n",
    "cpd_S = TabularCPD(variable='S',\n",
    "                   variable_card=2,\n",
    "                   values=[[0.98],   \n",
    "                           [0.02]])  \n",
    "                            \n",
    "\n",
    "#Define Conditional Probability Distribution of G\n",
    "cpd_G = TabularCPD(variable='G',\n",
    "                   variable_card=2,\n",
    "                   values=[[0.98],  \n",
    "                           [0.02]]) \n",
    "\n",
    "#Define Conditional Probability Distribution of V\n",
    "cpd_V = TabularCPD(variable='V',\n",
    "                   variable_card=2,\n",
    "                   evidence=['S', 'G'],\n",
    "                   evidence_card=[2, 2],\n",
    "                   values=[[1.00, 0.00, 0.00, 0.00],\n",
    "                           [0.00, 1.00, 1.00, 1.00]])"
   ]
  },
  {
   "cell_type": "code",
   "execution_count": 4,
   "metadata": {},
   "outputs": [],
   "source": [
    "#Associate the conditional distributions to the network\n",
    "valvePFD.add_cpds(cpd_S, cpd_G, cpd_V)"
   ]
  },
  {
   "cell_type": "code",
   "execution_count": 5,
   "metadata": {},
   "outputs": [
    {
     "data": {
      "text/plain": [
       "True"
      ]
     },
     "execution_count": 5,
     "metadata": {},
     "output_type": "execute_result"
    }
   ],
   "source": [
    "# Check the model for various errors. This method checks for the following errors:  \n",
    "# * Checks if the sum of the probabilities for each state is equal to 1 (tol=0.01).\n",
    "# * Checks if the CPDs associated with nodes are consistent with their parents.\n",
    "valvePFD.check_model()"
   ]
  },
  {
   "cell_type": "markdown",
   "metadata": {},
   "source": [
    "Our BN is consistent and presents no issues, so let's evaluete it:"
   ]
  },
  {
   "cell_type": "code",
   "execution_count": 6,
   "metadata": {},
   "outputs": [
    {
     "data": {
      "application/vnd.jupyter.widget-view+json": {
       "model_id": "a6b88dddd9d840179672038b80116df6",
       "version_major": 2,
       "version_minor": 0
      },
      "text/plain": [
       "HBox(children=(FloatProgress(value=0.0, max=2.0), HTML(value='')))"
      ]
     },
     "metadata": {},
     "output_type": "display_data"
    },
    {
     "data": {
      "application/vnd.jupyter.widget-view+json": {
       "model_id": "558372c60da84e0b9267a11ca0ff8de3",
       "version_major": 2,
       "version_minor": 0
      },
      "text/plain": [
       "HBox(children=(FloatProgress(value=0.0, max=2.0), HTML(value='')))"
      ]
     },
     "metadata": {},
     "output_type": "display_data"
    },
    {
     "name": "stdout",
     "output_type": "stream",
     "text": [
      "\n",
      "\n"
     ]
    }
   ],
   "source": [
    "#Lets use pgmpy.inference for infer PFD.\n",
    "infer = VariableElimination(valvePFD)\n",
    "Valve_PFD = infer.query(['V'])"
   ]
  },
  {
   "cell_type": "code",
   "execution_count": 7,
   "metadata": {},
   "outputs": [
    {
     "data": {
      "text/plain": [
       "0.0396"
      ]
     },
     "execution_count": 7,
     "metadata": {},
     "output_type": "execute_result"
    }
   ],
   "source": [
    "Valve_PFD.values[1]"
   ]
  },
  {
   "cell_type": "markdown",
   "metadata": {},
   "source": [
    "Valve PFD is **0.0396**"
   ]
  },
  {
   "cell_type": "markdown",
   "metadata": {},
   "source": [
    "### AND gate"
   ]
  },
  {
   "cell_type": "markdown",
   "metadata": {},
   "source": [
    "Continuing valve example, Process engineer concluded that a redundant instrumentation air supply is required in order to not disturb valve PFD, as shown on the following P&ID:\n",
    "\n",
    "<img src=\"Drawing5.jpg\" width=\"500px\" height=\"300px\"/>"
   ]
  },
  {
   "cell_type": "markdown",
   "metadata": {},
   "source": [
    "Instrumentation air supply fault tree is:\n",
    "\n",
    "<img src=\"Drawing6.jpg\" width=\"600px\" height=\"300px\"/>"
   ]
  },
  {
   "cell_type": "markdown",
   "metadata": {},
   "source": [
    "Process engineers expierence estimate supply air failure frequency as 0.2/year.\n",
    "\n",
    "An AND gate is used because **both elements need to fail to have a total failure**,in other words, if one air supply fails the other one prevent a supply air failure.\n",
    "\n",
    "We can estimate redundant air supply PFD with follow BN:\n",
    "\n",
    "<img src=\"Drawing7.jpg\" width=\"400px\" height=\"300px\"/>\n",
    "\n",
    "Where:\n",
    "\n",
    "- $A$ir supply $1$ will fail when needed (True = $a1^1$, False = $a1^0$),\n",
    "- $A$ir supply $2$ will fail when needed (True = $a2^1$, False = $a2^0$),\n",
    "- Instrumentation $A$ir $S$upply will fail when needed (True = $as^1$, False = $as^0$)."
   ]
  },
  {
   "cell_type": "markdown",
   "metadata": {},
   "source": [
    "Bayesian network using pgmpy:"
   ]
  },
  {
   "cell_type": "code",
   "execution_count": 8,
   "metadata": {},
   "outputs": [],
   "source": [
    "#Define network through edges \n",
    "ASPFD = BayesianModel([('A1', 'AS'), \n",
    "                       ('A2', 'AS')])"
   ]
  },
  {
   "cell_type": "code",
   "execution_count": 9,
   "metadata": {},
   "outputs": [],
   "source": [
    "#Define Conditional Probability Distribution of A1\n",
    "cpd_A1 = TabularCPD(variable='A1',\n",
    "                   variable_card=2,\n",
    "                   values=[[0.80],   \n",
    "                           [0.20]])  \n",
    "                            \n",
    "\n",
    "#Define Conditional Probability Distribution of A2\n",
    "cpd_A2 = TabularCPD(variable='A2',\n",
    "                   variable_card=2,\n",
    "                   values=[[0.80],  \n",
    "                           [0.20]]) \n",
    "\n",
    "#Define Conditional Probability Distribution of AS\n",
    "cpd_AS = TabularCPD(variable='AS',\n",
    "                   variable_card=2,\n",
    "                   evidence=['A1', 'A2'],\n",
    "                   evidence_card=[2, 2],\n",
    "                   values=[[1.00, 1.00, 1.00, 0.00],\n",
    "                           [0.00, 0.00, 0.00, 1.00]])"
   ]
  },
  {
   "cell_type": "code",
   "execution_count": 10,
   "metadata": {},
   "outputs": [],
   "source": [
    "#Associate the conditional distributions to the network\n",
    "ASPFD.add_cpds(cpd_A1, cpd_A2, cpd_AS)"
   ]
  },
  {
   "cell_type": "code",
   "execution_count": 11,
   "metadata": {},
   "outputs": [
    {
     "data": {
      "text/plain": [
       "True"
      ]
     },
     "execution_count": 11,
     "metadata": {},
     "output_type": "execute_result"
    }
   ],
   "source": [
    "# Check the model for various errors. This method checks for the following errors:  \n",
    "# * Checks if the sum of the probabilities for each state is equal to 1 (tol=0.01).\n",
    "# * Checks if the CPDs associated with nodes are consistent with their parents.\n",
    "ASPFD.check_model()"
   ]
  },
  {
   "cell_type": "code",
   "execution_count": 12,
   "metadata": {},
   "outputs": [
    {
     "data": {
      "application/vnd.jupyter.widget-view+json": {
       "model_id": "08392844dc36402f9dde31865ded5df2",
       "version_major": 2,
       "version_minor": 0
      },
      "text/plain": [
       "HBox(children=(FloatProgress(value=0.0, max=2.0), HTML(value='')))"
      ]
     },
     "metadata": {},
     "output_type": "display_data"
    },
    {
     "name": "stdout",
     "output_type": "stream",
     "text": [
      "\n"
     ]
    },
    {
     "data": {
      "application/vnd.jupyter.widget-view+json": {
       "model_id": "87e87322a46742ba85bf91f8abe9c671",
       "version_major": 2,
       "version_minor": 0
      },
      "text/plain": [
       "HBox(children=(FloatProgress(value=0.0, max=2.0), HTML(value='')))"
      ]
     },
     "metadata": {},
     "output_type": "display_data"
    },
    {
     "name": "stdout",
     "output_type": "stream",
     "text": [
      "\n"
     ]
    }
   ],
   "source": [
    "#Lets use pgmpy.inference for infer PFD.\n",
    "infer = VariableElimination(ASPFD)\n",
    "AS_PFD = infer.query(['AS'])"
   ]
  },
  {
   "cell_type": "code",
   "execution_count": 13,
   "metadata": {},
   "outputs": [
    {
     "data": {
      "text/plain": [
       "0.04000000000000001"
      ]
     },
     "execution_count": 13,
     "metadata": {},
     "output_type": "execute_result"
    }
   ],
   "source": [
    "AS_PFD.values[1]"
   ]
  },
  {
   "cell_type": "markdown",
   "metadata": {},
   "source": [
    "Air supply PFD is **0.0400**"
   ]
  },
  {
   "cell_type": "markdown",
   "metadata": {},
   "source": [
    "To end this example, lets see how both systems interacts.\n",
    "\n",
    "On the OR gate example, air supply failure was ignored. Now lets add it:\n",
    "\n",
    "<img src=\"Drawing8.jpg\" width=\"600px\" height=\"300px\"/>"
   ]
  },
  {
   "cell_type": "markdown",
   "metadata": {},
   "source": [
    "BN:\n",
    "\n",
    "<img src=\"Drawing9.jpg\" width=\"400px\" height=\"300px\"/>\n",
    "\n",
    "Where:\n",
    "\n",
    "- $S$olenoid valve will fail when needed (True = $s^1$, False = $s^0$),\n",
    "- $G$lobe valve will fail when needed (True = $g^1$, False = $g^0$),\n",
    "- Instrumentation $A$ir $S$upply will fail when needed (True = $as^1$, False = $as^0$),\n",
    "- $V$alve will fail when needed (True = $v^1$, False = $v^0$)."
   ]
  },
  {
   "cell_type": "markdown",
   "metadata": {},
   "source": [
    "Bayesian network using pgmpy:"
   ]
  },
  {
   "cell_type": "code",
   "execution_count": 14,
   "metadata": {},
   "outputs": [],
   "source": [
    "#Define network through edges \n",
    "valvePFD2 = BayesianModel([('S', 'V2'), #V is changed to V2 because is another PFD inference.\n",
    "                           ('G', 'V2'),\n",
    "                           ('A1','V2')]) #Any air supply can be used for this example"
   ]
  },
  {
   "cell_type": "code",
   "execution_count": 15,
   "metadata": {},
   "outputs": [],
   "source": [
    "#Define Conditional Probability Distribution of V2\n",
    "cpd_V2 = TabularCPD(variable='V2',\n",
    "                   variable_card=2,\n",
    "                   evidence=['S', 'G', 'A1'],\n",
    "                   evidence_card=[2, 2, 2],\n",
    "                   values=[[1.00, 0.00, 0.00, 0.00, 0.00, 0.00, 0.00, 0.00],\n",
    "                           [0.00, 1.00, 1.00, 1.00, 1.00, 1.00, 1.00, 1.00]])"
   ]
  },
  {
   "cell_type": "code",
   "execution_count": 16,
   "metadata": {},
   "outputs": [],
   "source": [
    "#Associate the conditional distributions to the network\n",
    "valvePFD2.add_cpds(cpd_S, cpd_G, cpd_A1, cpd_V2)"
   ]
  },
  {
   "cell_type": "code",
   "execution_count": 17,
   "metadata": {},
   "outputs": [
    {
     "data": {
      "text/plain": [
       "True"
      ]
     },
     "execution_count": 17,
     "metadata": {},
     "output_type": "execute_result"
    }
   ],
   "source": [
    "# Check the model for various errors. This method checks for the following errors:  \n",
    "# * Checks if the sum of the probabilities for each state is equal to 1 (tol=0.01).\n",
    "# * Checks if the CPDs associated with nodes are consistent with their parents.\n",
    "valvePFD2.check_model()\n"
   ]
  },
  {
   "cell_type": "code",
   "execution_count": 18,
   "metadata": {},
   "outputs": [
    {
     "data": {
      "application/vnd.jupyter.widget-view+json": {
       "model_id": "d1315715ebc040928f937191c5aebf09",
       "version_major": 2,
       "version_minor": 0
      },
      "text/plain": [
       "HBox(children=(FloatProgress(value=0.0, max=3.0), HTML(value='')))"
      ]
     },
     "metadata": {},
     "output_type": "display_data"
    },
    {
     "name": "stdout",
     "output_type": "stream",
     "text": [
      "\n"
     ]
    },
    {
     "data": {
      "application/vnd.jupyter.widget-view+json": {
       "model_id": "35442ce1702847dd9554c80090697878",
       "version_major": 2,
       "version_minor": 0
      },
      "text/plain": [
       "HBox(children=(FloatProgress(value=0.0, max=3.0), HTML(value='')))"
      ]
     },
     "metadata": {},
     "output_type": "display_data"
    },
    {
     "name": "stdout",
     "output_type": "stream",
     "text": [
      "\n"
     ]
    }
   ],
   "source": [
    "#Lets use pgmpy.inference for infer PFD.\n",
    "infer = VariableElimination(valvePFD2)\n",
    "Valve_PFD2 = infer.query(['V2'])"
   ]
  },
  {
   "cell_type": "code",
   "execution_count": 19,
   "metadata": {},
   "outputs": [
    {
     "data": {
      "text/plain": [
       "0.23168"
      ]
     },
     "execution_count": 19,
     "metadata": {},
     "output_type": "execute_result"
    }
   ],
   "source": [
    "Valve_PFD2.values[1]"
   ]
  },
  {
   "cell_type": "markdown",
   "metadata": {},
   "source": [
    "Valve PFD is **0.23168** taking into account air supply failure."
   ]
  },
  {
   "cell_type": "markdown",
   "metadata": {},
   "source": [
    "What happen if we add a redundant instrumentation air supply:\n",
    "\n",
    "<img src=\"Drawing10.jpg\" width=\"900px\" height=\"300px\"/>"
   ]
  },
  {
   "cell_type": "markdown",
   "metadata": {},
   "source": [
    "BN:\n",
    "\n",
    "<img src=\"Drawing11.jpg\" width=\"700px\" height=\"300px\"/>\n",
    "\n",
    "Where:\n",
    "\n",
    "- $A$ir supply $1$ will fail when needed (True = $a1^1$, False = $a1^0$),\n",
    "- $A$ir supply $2$ will fail when needed (True = $a2^1$, False = $a2^0$),\n",
    "- Instrumentation $A$ir $S$upply will fail when needed (True = $as^1$, False = $as^0$),\n",
    "- $S$olenoid valve will fail when needed (True = $s^1$, False = $s^0$),\n",
    "- $G$lobe valve will fail when needed (True = $g^1$, False = $g^0$),\n",
    "- $V$alve will fail when needed (True = $v^1$, False = $v^0$)."
   ]
  },
  {
   "cell_type": "markdown",
   "metadata": {},
   "source": [
    "Bayesian network using pgmpy:"
   ]
  },
  {
   "cell_type": "code",
   "execution_count": 20,
   "metadata": {},
   "outputs": [],
   "source": [
    "#Define network through edges \n",
    "valvePFD3 = BayesianModel([('S', 'V3'), #V is changed to V3 because is another PFD inference.\n",
    "                           ('G', 'V3'),\n",
    "                           ('AS','V3'), \n",
    "                           ('A1','AS'),\n",
    "                           ('A2','AS')])"
   ]
  },
  {
   "cell_type": "code",
   "execution_count": 21,
   "metadata": {},
   "outputs": [],
   "source": [
    "#Define Conditional Probability Distribution of V2\n",
    "cpd_V3 = TabularCPD(variable='V3',\n",
    "                   variable_card=2,\n",
    "                   evidence=['S', 'G', 'AS'],\n",
    "                   evidence_card=[2, 2, 2],\n",
    "                   values=[[1.00, 0.00, 0.00, 0.00, 0.00, 0.00, 0.00, 0.00],\n",
    "                           [0.00, 1.00, 1.00, 1.00, 1.00, 1.00, 1.00, 1.00]])"
   ]
  },
  {
   "cell_type": "code",
   "execution_count": 22,
   "metadata": {},
   "outputs": [],
   "source": [
    "#Associate the conditional distributions to the network\n",
    "valvePFD3.add_cpds(cpd_S, cpd_G, cpd_AS, cpd_A1, cpd_A2, cpd_V3)"
   ]
  },
  {
   "cell_type": "code",
   "execution_count": 23,
   "metadata": {},
   "outputs": [
    {
     "data": {
      "text/plain": [
       "True"
      ]
     },
     "execution_count": 23,
     "metadata": {},
     "output_type": "execute_result"
    }
   ],
   "source": [
    "# Check the model for various errors. This method checks for the following errors:  \n",
    "# * Checks if the sum of the probabilities for each state is equal to 1 (tol=0.01).\n",
    "# * Checks if the CPDs associated with nodes are consistent with their parents.\n",
    "valvePFD3.check_model()"
   ]
  },
  {
   "cell_type": "code",
   "execution_count": 24,
   "metadata": {},
   "outputs": [
    {
     "data": {
      "application/vnd.jupyter.widget-view+json": {
       "model_id": "df9427b32b7945a98d9a5d2e8ebbca3e",
       "version_major": 2,
       "version_minor": 0
      },
      "text/plain": [
       "HBox(children=(FloatProgress(value=0.0, max=5.0), HTML(value='')))"
      ]
     },
     "metadata": {},
     "output_type": "display_data"
    },
    {
     "data": {
      "application/vnd.jupyter.widget-view+json": {
       "model_id": "148f1ad061ae427293fa711d580acbde",
       "version_major": 2,
       "version_minor": 0
      },
      "text/plain": [
       "HBox(children=(FloatProgress(value=0.0, max=5.0), HTML(value='')))"
      ]
     },
     "metadata": {},
     "output_type": "display_data"
    },
    {
     "name": "stdout",
     "output_type": "stream",
     "text": [
      "\n"
     ]
    }
   ],
   "source": [
    "#Lets use pgmpy.inference for infer PFD.\n",
    "infer = VariableElimination(valvePFD3)\n",
    "Valve_PFD3 = infer.query(['V3'])"
   ]
  },
  {
   "cell_type": "code",
   "execution_count": 25,
   "metadata": {},
   "outputs": [
    {
     "data": {
      "text/plain": [
       "0.078016"
      ]
     },
     "execution_count": 25,
     "metadata": {},
     "output_type": "execute_result"
    }
   ],
   "source": [
    "Valve_PFD3.values[1]"
   ]
  },
  {
   "cell_type": "markdown",
   "metadata": {},
   "source": [
    "Valve PFD is **0.078016** when we add a redundant air supply, significantly less than **0.23168** Valve PFD without redundant air supply."
   ]
  },
  {
   "cell_type": "markdown",
   "metadata": {},
   "source": [
    "## 3. Model evaluation\n",
    "Remember our safety function example?\n",
    "\n",
    "<img src=\"https://realpars.com/wp-content/uploads/2018/08/Safety-Instrumented-System..gif\" width=\"620px\" height=\"400px\" />\n",
    "\n",
    "To show that estimating PFD for safety systems can help us to propose solutions to decrease risk in operations, we're going to infere example PFD and add elements or another functions in order to reduce likelihood of an undesearable event to happen."
   ]
  },
  {
   "cell_type": "markdown",
   "metadata": {},
   "source": [
    "From reactor diagram, we can assume that:\n",
    "\n",
    "- Indication of pressure and indication of inferred pressure using temperature protect a reactor from loss of containment by stop energy supply.\n",
    "- Both PTs act as a redundant system.\n",
    "- PLC (logic solver) is a fault tolerant system.\n",
    "- Final actuators are redundant isolation valves.\n",
    "- Instrumentation Air supply is proven safety.\n",
    "- Electric energy supply to instruments is proven safety.\n",
    "- All instalation staff are qualify, so human error can be discarded.\n",
    "\n",
    "\n",
    "Manufacturers estimate failure frequency of elements as:\n",
    "\n",
    "- Solenoid valve = 0.02/year\n",
    "- Isolation valve = 0.02/year\n",
    "- Temperature transmitter = 0.02/year\n",
    "- Pressure transmitter = 0.02/year\n",
    "- Logic solver = 0.00005/year\n",
    "\n",
    "But instrumentation engineers experience has shown that a yearly inspection of elements made by qualify workers **decrease by half** failure frequency, so adjusted values are:\n",
    "\n",
    "- Solenoid valve = 0.01/year\n",
    "- Isolation valve = 0.01/year\n",
    "- Temperature transmitter = 0.01/year\n",
    "- Pressure transmitter = 0.01/year\n",
    "- Logic solver = 0.00005/year -> Manufacturer do not recommend to make annual inspection."
   ]
  },
  {
   "cell_type": "markdown",
   "metadata": {},
   "source": [
    "Fault tree for function is:\n",
    "\n",
    "<img src=\"Drawing12.jpg\" width=\"900px\" height=\"500px\"/>"
   ]
  },
  {
   "cell_type": "markdown",
   "metadata": {},
   "source": [
    "BN:\n",
    "\n",
    "<img src=\"Drawing13.jpg\" width=\"700px\" height=\"300px\"/>\n",
    "\n",
    "Where:\n",
    "\n",
    "- $S$olenoid valve $1$ will fail when needed (True = $s1^1$, False = $s1^0$),\n",
    "- $S$olenoid valve $2$ will fail when needed (True = $s2^1$, False = $s2^0$),\n",
    "- $I$solation valve $1$ will fail when needed (True = $i1^1$, False = $i2^0$),\n",
    "- $I$solation valve $2$ will fail when needed (True = $i2^1$, False = $i2^0$),\n",
    "- $V$alve $1$ will fail when needed (True = $v1^1$, False = $v1^0$),\n",
    "- $V$alve $2$ will fail when needed (True = $v2^1$, False = $v2^0$),\n",
    "- $V$alve$S$ will fail when needed (True = $vs^1$, False = $vs^0$),\n",
    "- $P$ressure transmitter $1$ will fail when needed (True = $p1^1$, False = $p1^0$),\n",
    "- $P$ressure transmitter $2$ will fail when needed (True = $p2^1$, False = $p2^0$),\n",
    "- $P$ressure transmitter$S$ will fail when needed (True = $ps^1$, False = $ps^0$),\n",
    "- $T$emperature transmitter will fail when needed (True = $ts^1$, Fal$S$e = $ts^0$),\n",
    "- Transmitter$S$ will fail when needed (True = $ss^1$, Fal$S$e = $ss^0$),\n",
    "- $L$ogic $S$olver will fail when needed (True = $ls^1$, False = $ls^0$),\n",
    "- $S$afety $F$unction will fail when needed (True = $fs^1$, False = $fs^0$)."
   ]
  },
  {
   "cell_type": "markdown",
   "metadata": {},
   "source": [
    "Bayesian network using pgmpy:"
   ]
  },
  {
   "cell_type": "code",
   "execution_count": 26,
   "metadata": {},
   "outputs": [],
   "source": [
    "#Define network through edges \n",
    "SFPFD = BayesianModel([('P1','PS'),\n",
    "                       ('P2','PS'),\n",
    "                       ('PS','SS'), \n",
    "                       ('TS','SS'),\n",
    "                       ('I1','V1'), \n",
    "                       ('S1','V1'),\n",
    "                       ('I2','V2'), \n",
    "                       ('S2','V2'),\n",
    "                       ('V1','VS'), \n",
    "                       ('V2','VS'),\n",
    "                       ('VS','SF'),\n",
    "                       ('LS','SF'), \n",
    "                       ('SS','SF')])"
   ]
  },
  {
   "cell_type": "code",
   "execution_count": 27,
   "metadata": {},
   "outputs": [],
   "source": [
    "#Define Conditional Probability Distribution of P1\n",
    "cpd_P1 = TabularCPD(variable='P1',\n",
    "                   variable_card=2,\n",
    "                   values=[[0.99],   \n",
    "                           [0.01]])  \n",
    "                            \n",
    "\n",
    "#Define Conditional Probability Distribution of P2\n",
    "cpd_P2 = TabularCPD(variable='P2',\n",
    "                   variable_card=2,\n",
    "                   values=[[0.99],   \n",
    "                           [0.01]])\n",
    "\n",
    "#Define Conditional Probability Distribution of I1\n",
    "cpd_I1 = TabularCPD(variable='I1',\n",
    "                   variable_card=2,\n",
    "                   values=[[0.99],   \n",
    "                           [0.01]])\n",
    "\n",
    "#Define Conditional Probability Distribution of I2\n",
    "cpd_I2 = TabularCPD(variable='I2',\n",
    "                   variable_card=2,\n",
    "                   values=[[0.99],   \n",
    "                           [0.01]]) \n",
    "\n",
    "#Define Conditional Probability Distribution of S1\n",
    "cpd_S1 = TabularCPD(variable='S1',\n",
    "                   variable_card=2,\n",
    "                   values=[[0.99],   \n",
    "                           [0.01]])  \n",
    "\n",
    "#Define Conditional Probability Distribution of S2\n",
    "cpd_S2 = TabularCPD(variable='S2',\n",
    "                   variable_card=2,\n",
    "                   values=[[0.99],   \n",
    "                           [0.01]])  \n",
    "\n",
    "#Define Conditional Probability Distribution of TS\n",
    "cpd_TS = TabularCPD(variable='TS',\n",
    "                   variable_card=2,\n",
    "                   values=[[0.99],   \n",
    "                           [0.01]])  \n",
    "\n",
    "#Define Conditional Probability Distribution of LS\n",
    "cpd_LS = TabularCPD(variable='LS',\n",
    "                   variable_card=2,\n",
    "                   values=[[0.99995],   \n",
    "                           [0.00005]])"
   ]
  },
  {
   "cell_type": "code",
   "execution_count": 28,
   "metadata": {},
   "outputs": [],
   "source": [
    "#Define Conditional Probability Distribution of V1\n",
    "cpd_V1 = TabularCPD(variable='V1',\n",
    "                   variable_card=2,\n",
    "                   evidence=['I1', 'S1'],\n",
    "                   evidence_card=[2, 2],\n",
    "                   values=[[1.00, 0.00, 0.00, 0.00],\n",
    "                           [0.00, 1.00, 1.00, 1.00]])\n",
    "\n",
    "#Define Conditional Probability Distribution of V2\n",
    "cpd_V2 = TabularCPD(variable='V2',\n",
    "                   variable_card=2,\n",
    "                   evidence=['I2', 'S2'],\n",
    "                   evidence_card=[2, 2],\n",
    "                   values=[[1.00, 0.00, 0.00, 0.00],\n",
    "                           [0.00, 1.00, 1.00, 1.00]])\n",
    "\n",
    "#Define Conditional Probability Distribution of PS\n",
    "cpd_PS = TabularCPD(variable='PS',\n",
    "                   variable_card=2,\n",
    "                   evidence=['P1', 'P2'],\n",
    "                   evidence_card=[2, 2],\n",
    "                   values=[[1.00, 1.00, 1.00, 0.00],\n",
    "                           [0.00, 0.00, 0.00, 1.00]])\n",
    "\n",
    "#Define Conditional Probability Distribution of SS\n",
    "cpd_SS = TabularCPD(variable='SS',\n",
    "                   variable_card=2,\n",
    "                   evidence=['PS', 'TS'],\n",
    "                   evidence_card=[2, 2],\n",
    "                   values=[[1.00, 1.00, 1.00, 0.00],\n",
    "                           [0.00, 0.00, 0.00, 1.00]])\n",
    "\n",
    "#Define Conditional Probability Distribution of VS\n",
    "cpd_VS = TabularCPD(variable='VS',\n",
    "                   variable_card=2,\n",
    "                   evidence=['V1', 'V2'],\n",
    "                   evidence_card=[2, 2],\n",
    "                   values=[[1.00, 1.00, 1.00, 0.00],\n",
    "                           [0.00, 0.00, 0.00, 1.00]])\n",
    "\n",
    "#Define Conditional Probability Distribution of SF\n",
    "cpd_SF = TabularCPD(variable='SF',\n",
    "                   variable_card=2,\n",
    "                   evidence=['SS', 'LS', 'VS'],\n",
    "                   evidence_card=[2, 2, 2],\n",
    "                   values=[[1.00, 0.00, 0.00, 0.00, 0.00, 0.00, 0.00, 0.00],\n",
    "                           [0.00, 1.00, 1.00, 1.00, 1.00, 1.00, 1.00, 1.00]])"
   ]
  },
  {
   "cell_type": "code",
   "execution_count": 29,
   "metadata": {},
   "outputs": [],
   "source": [
    "#Associate the conditional distributions to the network\n",
    "SFPFD.add_cpds(cpd_P1, cpd_P2, cpd_PS, cpd_TS, cpd_SS, cpd_I1, cpd_I2, cpd_S1, cpd_S2, cpd_V1, cpd_V2, cpd_VS, cpd_LS, cpd_SF)"
   ]
  },
  {
   "cell_type": "code",
   "execution_count": 30,
   "metadata": {},
   "outputs": [
    {
     "data": {
      "text/plain": [
       "True"
      ]
     },
     "execution_count": 30,
     "metadata": {},
     "output_type": "execute_result"
    }
   ],
   "source": [
    "# Check the model for various errors. This method checks for the following errors:  \n",
    "# * Checks if the sum of the probabilities for each state is equal to 1 (tol=0.01).\n",
    "# * Checks if the CPDs associated with nodes are consistent with their parents.\n",
    "SFPFD.check_model()"
   ]
  },
  {
   "cell_type": "code",
   "execution_count": 31,
   "metadata": {},
   "outputs": [
    {
     "data": {
      "application/vnd.jupyter.widget-view+json": {
       "model_id": "8f5774920982402086b1182ff5407be3",
       "version_major": 2,
       "version_minor": 0
      },
      "text/plain": [
       "HBox(children=(FloatProgress(value=0.0, max=13.0), HTML(value='')))"
      ]
     },
     "metadata": {},
     "output_type": "display_data"
    },
    {
     "data": {
      "application/vnd.jupyter.widget-view+json": {
       "model_id": "62d971b3deab4d298d1a6c7fc76031ef",
       "version_major": 2,
       "version_minor": 0
      },
      "text/plain": [
       "HBox(children=(FloatProgress(value=0.0, max=13.0), HTML(value='')))"
      ]
     },
     "metadata": {},
     "output_type": "display_data"
    },
    {
     "name": "stdout",
     "output_type": "stream",
     "text": [
      "\n"
     ]
    }
   ],
   "source": [
    "#Lets use pgmpy.inference for infer PFD.\n",
    "infer = VariableElimination(SFPFD)\n",
    "SF_PFD = infer.query(['SF'])"
   ]
  },
  {
   "cell_type": "code",
   "execution_count": 32,
   "metadata": {},
   "outputs": [
    {
     "data": {
      "text/plain": [
       "0.0004469897535098005"
      ]
     },
     "execution_count": 32,
     "metadata": {},
     "output_type": "execute_result"
    }
   ],
   "source": [
    "SF_PFD.values[1]"
   ]
  },
  {
   "cell_type": "markdown",
   "metadata": {},
   "source": [
    "Safety function PFD is **0.0004469** that means availability of SF = 0.99955 = **99.95%** which is a really solid value."
   ]
  },
  {
   "cell_type": "markdown",
   "metadata": {},
   "source": [
    "At the moment we share our results to company COO (chief operating officer) , he told us that an event of a reactor loss of containment will be catastrophic to company eco-friendly image (and starts to talk a lot about Chernovyl). He wants a **Safety system**, wich availabilty must be, at least, 99.97% "
   ]
  },
  {
   "cell_type": "markdown",
   "metadata": {},
   "source": [
    "From reactor HAZOP (hazard and operability study) its concluded that stop energy supply will avoid subit pressure increase, but what happens if this fails? Reactor discharge must be sent to somewhere else, and pressure must be release. Fortunately, on facility exists an old tank with sufficient capacity to receive reactor discharge and a SF to perform this action will be installed. Also, a PRV (pressure relief valve) will be installed (reactor product Its mostly water steam, so enviorement will be ok) to avoid an explosion."
   ]
  },
  {
   "cell_type": "markdown",
   "metadata": {},
   "source": [
    "Simplified Safety System P&ID:\n",
    "\n",
    "<img src=\"Drawing14.jpg\" width=\"900px\" height=\"300px\"/>"
   ]
  },
  {
   "cell_type": "markdown",
   "metadata": {},
   "source": [
    "Instrumentation engineers said that same considerations from SF1 must be done, so PFD values for elements are:\n",
    "\n",
    "- PRV = 0.005/year\n",
    "- Pressure switch = 0.05/year"
   ]
  },
  {
   "cell_type": "markdown",
   "metadata": {},
   "source": [
    "Fault tree for function is:\n",
    "\n",
    "<img src=\"Drawing16.jpg\" width=\"700px\" height=\"500px\"/>"
   ]
  },
  {
   "cell_type": "markdown",
   "metadata": {},
   "source": [
    "BN:\n",
    "\n",
    "<img src=\"Drawing20.jpg\" width=\"700px\" height=\"300px\"/>\n",
    "\n",
    "Where:\n",
    "\n",
    "- Safety $F$unction $1$ will fail when needed (True = $f1^1$, False = $f1^0$),\n",
    "- Safety $F$unction $2$ will fail when needed (True = $f2^1$, False = $f2^0$),\n",
    "- $P$ressure $R$elief valve will fail when needed (True = $pr^1$, False = $pr^0$),\n",
    "- $P$ressure s$W$itch will fail when needed (True = $pw^1$, False = $pw^0$),\n",
    "- $S$olenoid valve $3$ will fail when needed (True = $s2^1$, False = $s2^0$),\n",
    "- $I$solation valve $3$ will fail when needed (True = $i1^1$, False = $i2^0$),\n",
    "- $V$alve $3$ will fail when needed (True = $v3^1$, False = $v3^0$),\n",
    "- $S$afety $S$ystem will fail when needed (True = $ss^1$, False = $ss^0$)."
   ]
  },
  {
   "cell_type": "markdown",
   "metadata": {},
   "source": [
    "Bayesian network using pgmpy:"
   ]
  },
  {
   "cell_type": "code",
   "execution_count": 33,
   "metadata": {},
   "outputs": [],
   "source": [
    "SSPFD = BayesianModel([('I3','V3'), \n",
    "                       ('S3','V3'),\n",
    "                       ('PW','F2'), \n",
    "                       ('V3','F2'),\n",
    "                       ('PR','SY'), #change SS to SY to avoid repeat variables \n",
    "                       ('F1','SY'),\n",
    "                       ('F2','SY')])"
   ]
  },
  {
   "cell_type": "code",
   "execution_count": 34,
   "metadata": {},
   "outputs": [],
   "source": [
    "#Define Conditional Probability Distribution of I3\n",
    "cpd_I3 = TabularCPD(variable='I3',\n",
    "                   variable_card=2,\n",
    "                   values=[[0.99],   \n",
    "                           [0.01]])\n",
    "\n",
    "#Define Conditional Probability Distribution of S3\n",
    "cpd_S3 = TabularCPD(variable='S3',\n",
    "                   variable_card=2,\n",
    "                   values=[[0.99],   \n",
    "                           [0.01]]) \n",
    "\n",
    "#Define Conditional Probability Distribution of PW\n",
    "cpd_PW = TabularCPD(variable='PW',\n",
    "                   variable_card=2,\n",
    "                   values=[[0.95],   \n",
    "                           [0.05]])  \n",
    "\n",
    "#Define Conditional Probability Distribution of PR\n",
    "cpd_PR = TabularCPD(variable='PR',\n",
    "                   variable_card=2,\n",
    "                   values=[[0.995],   \n",
    "                           [0.005]])\n",
    "\n",
    "#Define Conditional Probability Distribution of F1\n",
    "cpd_F1 = TabularCPD(variable='F1',\n",
    "                   variable_card=2,\n",
    "                   values=[[0.99955],   \n",
    "                           [0.00045]]) #From basic SF"
   ]
  },
  {
   "cell_type": "code",
   "execution_count": 35,
   "metadata": {},
   "outputs": [],
   "source": [
    "#Define Conditional Probability Distribution of V1\n",
    "cpd_V3 = TabularCPD(variable='V3',\n",
    "                   variable_card=2,\n",
    "                   evidence=['I3', 'S3'],\n",
    "                   evidence_card=[2, 2],\n",
    "                   values=[[1.00, 0.00, 0.00, 0.00],\n",
    "                           [0.00, 1.00, 1.00, 1.00]])\n",
    "\n",
    "\n",
    "#Define Conditional Probability Distribution of F2\n",
    "cpd_F2 = TabularCPD(variable='F2',\n",
    "                   variable_card=2,\n",
    "                   evidence=['PW', 'V3'],\n",
    "                   evidence_card=[2, 2],\n",
    "                   values=[[1.00, 0.00, 0.00, 0.00],\n",
    "                           [0.00, 1.00, 1.00, 1.00]])\n",
    "\n",
    "#Define Conditional Probability Distribution of SS\n",
    "cpd_SY = TabularCPD(variable='SY',\n",
    "                   variable_card=2,\n",
    "                   evidence=['F1', 'F2', 'PR'],\n",
    "                   evidence_card=[2, 2, 2],\n",
    "                   values=[[1.00, 1.00, 1.00, 1.00, 1.00, 1.00, 1.00, 0.00],\n",
    "                           [0.00, 0.00, 0.00, 0.00, 0.00, 0.00, 0.00, 1.00]])"
   ]
  },
  {
   "cell_type": "code",
   "execution_count": 36,
   "metadata": {},
   "outputs": [],
   "source": [
    "#Associate the conditional distributions to the network\n",
    "SSPFD.add_cpds(cpd_I3, cpd_S3, cpd_V3, cpd_PW, cpd_F2, cpd_F1, cpd_PR, cpd_SY)"
   ]
  },
  {
   "cell_type": "code",
   "execution_count": 37,
   "metadata": {},
   "outputs": [
    {
     "data": {
      "text/plain": [
       "True"
      ]
     },
     "execution_count": 37,
     "metadata": {},
     "output_type": "execute_result"
    }
   ],
   "source": [
    "# Check the model for various errors. This method checks for the following errors:  \n",
    "# * Checks if the sum of the probabilities for each state is equal to 1 (tol=0.01).\n",
    "# * Checks if the CPDs associated with nodes are consistent with their parents.\n",
    "SSPFD.check_model()"
   ]
  },
  {
   "cell_type": "code",
   "execution_count": 38,
   "metadata": {},
   "outputs": [
    {
     "data": {
      "application/vnd.jupyter.widget-view+json": {
       "model_id": "04205de19b1e4ddcaabf80ce826fa76e",
       "version_major": 2,
       "version_minor": 0
      },
      "text/plain": [
       "HBox(children=(FloatProgress(value=0.0, max=7.0), HTML(value='')))"
      ]
     },
     "metadata": {},
     "output_type": "display_data"
    },
    {
     "data": {
      "application/vnd.jupyter.widget-view+json": {
       "model_id": "bec2cf6e188e41e7b776285573da1e6d",
       "version_major": 2,
       "version_minor": 0
      },
      "text/plain": [
       "HBox(children=(FloatProgress(value=0.0, max=7.0), HTML(value='')))"
      ]
     },
     "metadata": {},
     "output_type": "display_data"
    },
    {
     "name": "stdout",
     "output_type": "stream",
     "text": [
      "\n"
     ]
    }
   ],
   "source": [
    "#Lets use pgmpy.inference for infer PFD.\n",
    "infer = VariableElimination(SSPFD)\n",
    "SS_PFD = infer.query(['SY'])"
   ]
  },
  {
   "cell_type": "code",
   "execution_count": 39,
   "metadata": {},
   "outputs": [
    {
     "data": {
      "text/plain": [
       "1.5503625000000002e-07"
      ]
     },
     "execution_count": 39,
     "metadata": {},
     "output_type": "execute_result"
    }
   ],
   "source": [
    "SS_PFD.values[1]"
   ]
  },
  {
   "cell_type": "markdown",
   "metadata": {},
   "source": [
    "Safety system PFD is 1.5503625e-07 that means availability of SS = 0.009999998 = **99.99998%** which **is higher than 99.97% required by COO.**"
   ]
  },
  {
   "cell_type": "markdown",
   "metadata": {},
   "source": [
    "## 4. Conclusions\n",
    "\n",
    "* Bayesian inferences permit to calculate the joint posterior probability of the different variables which can overcome the limitations of fault tree regarding the diagnosis.\n",
    "\n",
    "* The Analysis of the obtained results by the methodology of converting the fault tree into bayesian networks allowed to identify the critical components, and contributed in using the inspection in order to increase the system’s reliability and availability.\n",
    "\n",
    "* Safety systems and safety functions proper design is critical to deacrease operational risk.\n",
    "\n",
    "* We shown by estimating safety systems and functions PFD given elements PFDs of a system that can be real or not (remember that this is usally confidential information) that when risk is not tolerable, we can always add more protection to operate safer. "
   ]
  },
  {
   "cell_type": "markdown",
   "metadata": {},
   "source": [
    "## 5. Addendum"
   ]
  },
  {
   "cell_type": "markdown",
   "metadata": {},
   "source": [
    "### Addendum A - Failure Frequencies and Probabilities for Miscellaneous Equipment"
   ]
  },
  {
   "cell_type": "markdown",
   "metadata": {},
   "source": [
    "You can check it [here](https://github.com/agaray54/Bayesian-Network-use-to-estimate-Average-Probability-of-Failure-on-Demand-on-safety-systems/blob/main/Failure%20Frequencies%20and%20Probabilities%20for%20Miscellaneous%20Equipment.pdf) "
   ]
  },
  {
   "cell_type": "markdown",
   "metadata": {},
   "source": [
    "### Addendum B - SamIam BN inference interactive.\n",
    "\n",
    "Review all BN made for this study and interact whit them [here](https://github.com/agaray54/Bayesian-Network-use-to-estimate-Average-Probability-of-Failure-on-Demand-on-safety-systems)"
   ]
  },
  {
   "cell_type": "markdown",
   "metadata": {},
   "source": [
    "<script>\n",
    "  $(document).ready(function(){\n",
    "    $('div.prompt').hide();\n",
    "    $('div.back-to-top').hide();\n",
    "    $('nav#menubar').hide();\n",
    "    $('.breadcrumb').hide();\n",
    "    $('.hidden-print').hide();\n",
    "  });\n",
    "</script>\n",
    "\n",
    "<footer id=\"attribution\" style=\"float:right; color:#808080; background:#fff;\">\n",
    "Created with Jupyter by Adrian Garay.\n",
    "</footer>"
   ]
  }
 ],
 "metadata": {
  "kernelspec": {
   "display_name": "Python 3",
   "language": "python",
   "name": "python3"
  },
  "language_info": {
   "codemirror_mode": {
    "name": "ipython",
    "version": 3
   },
   "file_extension": ".py",
   "mimetype": "text/x-python",
   "name": "python",
   "nbconvert_exporter": "python",
   "pygments_lexer": "ipython3",
   "version": "3.8.3"
  }
 },
 "nbformat": 4,
 "nbformat_minor": 4
}
